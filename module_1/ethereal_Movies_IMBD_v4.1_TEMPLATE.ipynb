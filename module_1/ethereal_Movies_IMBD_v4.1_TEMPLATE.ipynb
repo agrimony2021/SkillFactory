{
 "cells": [
  {
   "cell_type": "code",
   "execution_count": 2,
   "metadata": {
    "_cell_guid": "b1076dfc-b9ad-4769-8c92-a6c4dae69d19",
    "_uuid": "8f2839f25d086af736a60e9eeb907d3b93b6e0e5",
    "colab": {},
    "colab_type": "code",
    "id": "U2D2gTdJVp90"
   },
   "outputs": [],
   "source": [
    "import numpy as np\n",
    "import pandas as pd\n",
    "import seaborn as sns\n",
    "import matplotlib.pyplot as plt\n",
    "from collections import Counter\n",
    "import collections"
   ]
  },
  {
   "cell_type": "code",
   "execution_count": 3,
   "metadata": {
    "_cell_guid": "79c7e3d0-c299-4dcb-8224-4455121ee9b0",
    "_uuid": "d629ff2d2480ee46fbb7e2d37f6b5fab8052498a",
    "colab": {},
    "colab_type": "code",
    "id": "oyGfxL3eVp9-"
   },
   "outputs": [
    {
     "data": {
      "text/html": [
       "<div>\n",
       "<style scoped>\n",
       "    .dataframe tbody tr th:only-of-type {\n",
       "        vertical-align: middle;\n",
       "    }\n",
       "\n",
       "    .dataframe tbody tr th {\n",
       "        vertical-align: top;\n",
       "    }\n",
       "\n",
       "    .dataframe thead th {\n",
       "        text-align: right;\n",
       "    }\n",
       "</style>\n",
       "<table border=\"1\" class=\"dataframe\">\n",
       "  <thead>\n",
       "    <tr style=\"text-align: right;\">\n",
       "      <th></th>\n",
       "      <th>imdb_id</th>\n",
       "      <th>budget</th>\n",
       "      <th>revenue</th>\n",
       "      <th>original_title</th>\n",
       "      <th>cast</th>\n",
       "      <th>director</th>\n",
       "      <th>tagline</th>\n",
       "      <th>overview</th>\n",
       "      <th>runtime</th>\n",
       "      <th>genres</th>\n",
       "      <th>production_companies</th>\n",
       "      <th>release_date</th>\n",
       "      <th>vote_average</th>\n",
       "      <th>release_year</th>\n",
       "    </tr>\n",
       "  </thead>\n",
       "  <tbody>\n",
       "    <tr>\n",
       "      <th>17</th>\n",
       "      <td>tt0478970</td>\n",
       "      <td>130000000</td>\n",
       "      <td>518602163</td>\n",
       "      <td>Ant-Man</td>\n",
       "      <td>Paul Rudd|Michael Douglas|Evangeline Lilly|Cor...</td>\n",
       "      <td>Peyton Reed</td>\n",
       "      <td>Heroes Don't Get Any Bigger</td>\n",
       "      <td>Armed with the astonishing ability to shrink i...</td>\n",
       "      <td>115</td>\n",
       "      <td>Science Fiction|Action|Adventure</td>\n",
       "      <td>Marvel Studios</td>\n",
       "      <td>7/14/2015</td>\n",
       "      <td>7.0</td>\n",
       "      <td>2015</td>\n",
       "    </tr>\n",
       "    <tr>\n",
       "      <th>589</th>\n",
       "      <td>tt0273799</td>\n",
       "      <td>12000000</td>\n",
       "      <td>17292381</td>\n",
       "      <td>Max Keeble's Big Move</td>\n",
       "      <td>Alex D. Linz|Zena Grey|Nora Dunn|Larry Miller|...</td>\n",
       "      <td>Tim Hill</td>\n",
       "      <td>His World. His Rules.</td>\n",
       "      <td>Max Keeble, the victim of his 7th grade class,...</td>\n",
       "      <td>86</td>\n",
       "      <td>Comedy|Family|Fantasy|Science Fiction</td>\n",
       "      <td>Walt Disney Pictures|Karz Entertainment</td>\n",
       "      <td>10/5/2001</td>\n",
       "      <td>5.3</td>\n",
       "      <td>2001</td>\n",
       "    </tr>\n",
       "    <tr>\n",
       "      <th>1111</th>\n",
       "      <td>tt0327056</td>\n",
       "      <td>25000000</td>\n",
       "      <td>156822020</td>\n",
       "      <td>Mystic River</td>\n",
       "      <td>Sean Penn|Tim Robbins|Kevin Bacon|Marcia Gay H...</td>\n",
       "      <td>Clint Eastwood</td>\n",
       "      <td>We bury our sins, we wash them clean.</td>\n",
       "      <td>A story about friendship and loyalty, guilt an...</td>\n",
       "      <td>138</td>\n",
       "      <td>Thriller|Crime|Drama|Mystery</td>\n",
       "      <td>Village Roadshow Pictures|Malpaso Productions|...</td>\n",
       "      <td>10/7/2003</td>\n",
       "      <td>7.4</td>\n",
       "      <td>2003</td>\n",
       "    </tr>\n",
       "    <tr>\n",
       "      <th>195</th>\n",
       "      <td>tt1823664</td>\n",
       "      <td>65000000</td>\n",
       "      <td>133821816</td>\n",
       "      <td>Annie</td>\n",
       "      <td>QuvenzhanÃ© Wallis|Jamie Foxx|Rose Byrne|Camer...</td>\n",
       "      <td>Will Gluck</td>\n",
       "      <td>It's a Hard Knock Life</td>\n",
       "      <td>Ever since her parents left her as a baby, lit...</td>\n",
       "      <td>119</td>\n",
       "      <td>Music|Comedy|Drama|Family</td>\n",
       "      <td>Columbia Pictures|Sony Pictures Entertainment ...</td>\n",
       "      <td>12/19/2014</td>\n",
       "      <td>6.1</td>\n",
       "      <td>2014</td>\n",
       "    </tr>\n",
       "    <tr>\n",
       "      <th>441</th>\n",
       "      <td>tt1038686</td>\n",
       "      <td>26000000</td>\n",
       "      <td>67918658</td>\n",
       "      <td>Legion</td>\n",
       "      <td>Paul Bettany|Dennis Quaid|Kevin Durand|Kate Wa...</td>\n",
       "      <td>Scott Stewart</td>\n",
       "      <td>When the last angel falls, the fight for manki...</td>\n",
       "      <td>When God loses faith in humankind, he sends hi...</td>\n",
       "      <td>100</td>\n",
       "      <td>Horror</td>\n",
       "      <td>Bold Films</td>\n",
       "      <td>1/21/2010</td>\n",
       "      <td>5.0</td>\n",
       "      <td>2010</td>\n",
       "    </tr>\n",
       "  </tbody>\n",
       "</table>\n",
       "</div>"
      ],
      "text/plain": [
       "        imdb_id     budget    revenue         original_title  \\\n",
       "17    tt0478970  130000000  518602163                Ant-Man   \n",
       "589   tt0273799   12000000   17292381  Max Keeble's Big Move   \n",
       "1111  tt0327056   25000000  156822020           Mystic River   \n",
       "195   tt1823664   65000000  133821816                  Annie   \n",
       "441   tt1038686   26000000   67918658                 Legion   \n",
       "\n",
       "                                                   cast        director  \\\n",
       "17    Paul Rudd|Michael Douglas|Evangeline Lilly|Cor...     Peyton Reed   \n",
       "589   Alex D. Linz|Zena Grey|Nora Dunn|Larry Miller|...        Tim Hill   \n",
       "1111  Sean Penn|Tim Robbins|Kevin Bacon|Marcia Gay H...  Clint Eastwood   \n",
       "195   QuvenzhanÃ© Wallis|Jamie Foxx|Rose Byrne|Camer...      Will Gluck   \n",
       "441   Paul Bettany|Dennis Quaid|Kevin Durand|Kate Wa...   Scott Stewart   \n",
       "\n",
       "                                                tagline  \\\n",
       "17                          Heroes Don't Get Any Bigger   \n",
       "589                               His World. His Rules.   \n",
       "1111              We bury our sins, we wash them clean.   \n",
       "195                              It's a Hard Knock Life   \n",
       "441   When the last angel falls, the fight for manki...   \n",
       "\n",
       "                                               overview  runtime  \\\n",
       "17    Armed with the astonishing ability to shrink i...      115   \n",
       "589   Max Keeble, the victim of his 7th grade class,...       86   \n",
       "1111  A story about friendship and loyalty, guilt an...      138   \n",
       "195   Ever since her parents left her as a baby, lit...      119   \n",
       "441   When God loses faith in humankind, he sends hi...      100   \n",
       "\n",
       "                                     genres  \\\n",
       "17         Science Fiction|Action|Adventure   \n",
       "589   Comedy|Family|Fantasy|Science Fiction   \n",
       "1111           Thriller|Crime|Drama|Mystery   \n",
       "195               Music|Comedy|Drama|Family   \n",
       "441                                  Horror   \n",
       "\n",
       "                                   production_companies release_date  \\\n",
       "17                                       Marvel Studios    7/14/2015   \n",
       "589             Walt Disney Pictures|Karz Entertainment    10/5/2001   \n",
       "1111  Village Roadshow Pictures|Malpaso Productions|...    10/7/2003   \n",
       "195   Columbia Pictures|Sony Pictures Entertainment ...   12/19/2014   \n",
       "441                                          Bold Films    1/21/2010   \n",
       "\n",
       "      vote_average  release_year  \n",
       "17             7.0          2015  \n",
       "589            5.3          2001  \n",
       "1111           7.4          2003  \n",
       "195            6.1          2014  \n",
       "441            5.0          2010  "
      ]
     },
     "execution_count": 3,
     "metadata": {},
     "output_type": "execute_result"
    }
   ],
   "source": [
    "data = pd.read_csv('movie_bd_v5.xls')\n",
    "data.sample(5)"
   ]
  },
  {
   "cell_type": "code",
   "execution_count": 4,
   "metadata": {
    "colab": {},
    "colab_type": "code",
    "id": "CoYUnagMVp-C"
   },
   "outputs": [
    {
     "data": {
      "text/html": [
       "<div>\n",
       "<style scoped>\n",
       "    .dataframe tbody tr th:only-of-type {\n",
       "        vertical-align: middle;\n",
       "    }\n",
       "\n",
       "    .dataframe tbody tr th {\n",
       "        vertical-align: top;\n",
       "    }\n",
       "\n",
       "    .dataframe thead th {\n",
       "        text-align: right;\n",
       "    }\n",
       "</style>\n",
       "<table border=\"1\" class=\"dataframe\">\n",
       "  <thead>\n",
       "    <tr style=\"text-align: right;\">\n",
       "      <th></th>\n",
       "      <th>budget</th>\n",
       "      <th>revenue</th>\n",
       "      <th>runtime</th>\n",
       "      <th>vote_average</th>\n",
       "      <th>release_year</th>\n",
       "    </tr>\n",
       "  </thead>\n",
       "  <tbody>\n",
       "    <tr>\n",
       "      <th>count</th>\n",
       "      <td>1.889000e+03</td>\n",
       "      <td>1.889000e+03</td>\n",
       "      <td>1889.000000</td>\n",
       "      <td>1889.000000</td>\n",
       "      <td>1889.000000</td>\n",
       "    </tr>\n",
       "    <tr>\n",
       "      <th>mean</th>\n",
       "      <td>5.431083e+07</td>\n",
       "      <td>1.553653e+08</td>\n",
       "      <td>109.658549</td>\n",
       "      <td>6.140762</td>\n",
       "      <td>2007.860773</td>\n",
       "    </tr>\n",
       "    <tr>\n",
       "      <th>std</th>\n",
       "      <td>4.858721e+07</td>\n",
       "      <td>2.146698e+08</td>\n",
       "      <td>18.017041</td>\n",
       "      <td>0.764763</td>\n",
       "      <td>4.468841</td>\n",
       "    </tr>\n",
       "    <tr>\n",
       "      <th>min</th>\n",
       "      <td>5.000000e+06</td>\n",
       "      <td>2.033165e+06</td>\n",
       "      <td>63.000000</td>\n",
       "      <td>3.300000</td>\n",
       "      <td>2000.000000</td>\n",
       "    </tr>\n",
       "    <tr>\n",
       "      <th>25%</th>\n",
       "      <td>2.000000e+07</td>\n",
       "      <td>3.456058e+07</td>\n",
       "      <td>97.000000</td>\n",
       "      <td>5.600000</td>\n",
       "      <td>2004.000000</td>\n",
       "    </tr>\n",
       "    <tr>\n",
       "      <th>50%</th>\n",
       "      <td>3.800000e+07</td>\n",
       "      <td>8.361541e+07</td>\n",
       "      <td>107.000000</td>\n",
       "      <td>6.100000</td>\n",
       "      <td>2008.000000</td>\n",
       "    </tr>\n",
       "    <tr>\n",
       "      <th>75%</th>\n",
       "      <td>7.200000e+07</td>\n",
       "      <td>1.782626e+08</td>\n",
       "      <td>120.000000</td>\n",
       "      <td>6.600000</td>\n",
       "      <td>2012.000000</td>\n",
       "    </tr>\n",
       "    <tr>\n",
       "      <th>max</th>\n",
       "      <td>3.800000e+08</td>\n",
       "      <td>2.781506e+09</td>\n",
       "      <td>214.000000</td>\n",
       "      <td>8.100000</td>\n",
       "      <td>2015.000000</td>\n",
       "    </tr>\n",
       "  </tbody>\n",
       "</table>\n",
       "</div>"
      ],
      "text/plain": [
       "             budget       revenue      runtime  vote_average  release_year\n",
       "count  1.889000e+03  1.889000e+03  1889.000000   1889.000000   1889.000000\n",
       "mean   5.431083e+07  1.553653e+08   109.658549      6.140762   2007.860773\n",
       "std    4.858721e+07  2.146698e+08    18.017041      0.764763      4.468841\n",
       "min    5.000000e+06  2.033165e+06    63.000000      3.300000   2000.000000\n",
       "25%    2.000000e+07  3.456058e+07    97.000000      5.600000   2004.000000\n",
       "50%    3.800000e+07  8.361541e+07   107.000000      6.100000   2008.000000\n",
       "75%    7.200000e+07  1.782626e+08   120.000000      6.600000   2012.000000\n",
       "max    3.800000e+08  2.781506e+09   214.000000      8.100000   2015.000000"
      ]
     },
     "execution_count": 4,
     "metadata": {},
     "output_type": "execute_result"
    }
   ],
   "source": [
    "data.describe()"
   ]
  },
  {
   "cell_type": "markdown",
   "metadata": {
    "colab_type": "text",
    "id": "DTIt7ezGVp-G"
   },
   "source": [
    "# Предобработка"
   ]
  },
  {
   "cell_type": "code",
   "execution_count": 5,
   "metadata": {
    "colab": {},
    "colab_type": "code",
    "id": "jNb40DwKVp-H"
   },
   "outputs": [],
   "source": [
    "answers = {} # создадим словарь для ответов\n",
    "\n",
    "# тут другие ваши предобработки колонок например:\n",
    "data['profit'] = data.revenue - data.budget\n",
    "\n",
    "#ниже функция для задания 11 - подсчёт жанров\n",
    "def genres_count(genres_column):\n",
    "    for i in genres_column:\n",
    "        if i in genres_dict:\n",
    "            genres_dict[i] += 1\n",
    "        else:\n",
    "            genres_dict[i] = 1\n",
    "    return genres_dict\n",
    "\n",
    "\n",
    "\n",
    "#the time given in the dataset is in string format.\n",
    "#So we need to change this in datetime format\n",
    "# ..."
   ]
  },
  {
   "cell_type": "markdown",
   "metadata": {
    "colab_type": "text",
    "id": "YxZaH-nPVp-L"
   },
   "source": [
    "# 1. У какого фильма из списка самый большой бюджет?"
   ]
  },
  {
   "cell_type": "markdown",
   "metadata": {
    "colab_type": "text",
    "id": "Nd-G5gX6Vp-M"
   },
   "source": [
    "Использовать варианты ответов в коде решения запрещено.    \n",
    "Вы думаете и в жизни у вас будут варианты ответов?)"
   ]
  },
  {
   "cell_type": "code",
   "execution_count": 6,
   "metadata": {
    "colab": {},
    "colab_type": "code",
    "id": "uVnXAY5RVp-O"
   },
   "outputs": [],
   "source": [
    "# в словарь вставляем номер вопроса и ваш ответ на него\n",
    "# Пример:\n",
    "#answers['1'] = '2. Spider-Man 3 (tt0413300)'\n",
    "# запишите свой вариант ответа\n",
    "answers['1'] = 'Pirates of the Caribbean: On Stranger Tides (tt1298650)'\n",
    "# если ответили верно, можете добавить комментарий со значком \"+\""
   ]
  },
  {
   "cell_type": "code",
   "execution_count": 7,
   "metadata": {
    "colab": {},
    "colab_type": "code",
    "id": "dZwb3m28Vp-S"
   },
   "outputs": [
    {
     "data": {
      "text/html": [
       "<div>\n",
       "<style scoped>\n",
       "    .dataframe tbody tr th:only-of-type {\n",
       "        vertical-align: middle;\n",
       "    }\n",
       "\n",
       "    .dataframe tbody tr th {\n",
       "        vertical-align: top;\n",
       "    }\n",
       "\n",
       "    .dataframe thead th {\n",
       "        text-align: right;\n",
       "    }\n",
       "</style>\n",
       "<table border=\"1\" class=\"dataframe\">\n",
       "  <thead>\n",
       "    <tr style=\"text-align: right;\">\n",
       "      <th></th>\n",
       "      <th>imdb_id</th>\n",
       "      <th>budget</th>\n",
       "      <th>revenue</th>\n",
       "      <th>original_title</th>\n",
       "      <th>cast</th>\n",
       "      <th>director</th>\n",
       "      <th>tagline</th>\n",
       "      <th>overview</th>\n",
       "      <th>runtime</th>\n",
       "      <th>genres</th>\n",
       "      <th>production_companies</th>\n",
       "      <th>release_date</th>\n",
       "      <th>vote_average</th>\n",
       "      <th>release_year</th>\n",
       "      <th>profit</th>\n",
       "    </tr>\n",
       "  </thead>\n",
       "  <tbody>\n",
       "    <tr>\n",
       "      <th>723</th>\n",
       "      <td>tt1298650</td>\n",
       "      <td>380000000</td>\n",
       "      <td>1021683000</td>\n",
       "      <td>Pirates of the Caribbean: On Stranger Tides</td>\n",
       "      <td>Johnny Depp|PenÃ©lope Cruz|Geoffrey Rush|Ian M...</td>\n",
       "      <td>Rob Marshall</td>\n",
       "      <td>Live Forever Or Die Trying.</td>\n",
       "      <td>Captain Jack Sparrow crosses paths with a woma...</td>\n",
       "      <td>136</td>\n",
       "      <td>Adventure|Action|Fantasy</td>\n",
       "      <td>Walt Disney Pictures|Jerry Bruckheimer Films|M...</td>\n",
       "      <td>5/11/2011</td>\n",
       "      <td>6.3</td>\n",
       "      <td>2011</td>\n",
       "      <td>641683000</td>\n",
       "    </tr>\n",
       "  </tbody>\n",
       "</table>\n",
       "</div>"
      ],
      "text/plain": [
       "       imdb_id     budget     revenue  \\\n",
       "723  tt1298650  380000000  1021683000   \n",
       "\n",
       "                                  original_title  \\\n",
       "723  Pirates of the Caribbean: On Stranger Tides   \n",
       "\n",
       "                                                  cast      director  \\\n",
       "723  Johnny Depp|PenÃ©lope Cruz|Geoffrey Rush|Ian M...  Rob Marshall   \n",
       "\n",
       "                         tagline  \\\n",
       "723  Live Forever Or Die Trying.   \n",
       "\n",
       "                                              overview  runtime  \\\n",
       "723  Captain Jack Sparrow crosses paths with a woma...      136   \n",
       "\n",
       "                       genres  \\\n",
       "723  Adventure|Action|Fantasy   \n",
       "\n",
       "                                  production_companies release_date  \\\n",
       "723  Walt Disney Pictures|Jerry Bruckheimer Films|M...    5/11/2011   \n",
       "\n",
       "     vote_average  release_year     profit  \n",
       "723           6.3          2011  641683000  "
      ]
     },
     "execution_count": 7,
     "metadata": {},
     "output_type": "execute_result"
    }
   ],
   "source": [
    "# тут пишем ваш код для решения данного вопроса:\n",
    "# строка кода ниже определяет индекс строки с нужным фильмом и мы можем скопировать название фильма как ответ\n",
    "data.loc[data['budget'] == data.budget.max()]"
   ]
  },
  {
   "cell_type": "markdown",
   "metadata": {
    "colab_type": "text",
    "id": "K7L3nbRXVp-X"
   },
   "source": [
    "ВАРИАНТ 2"
   ]
  },
  {
   "cell_type": "code",
   "execution_count": 8,
   "metadata": {
    "colab": {},
    "colab_type": "code",
    "id": "OGaoQI7rVp-X"
   },
   "outputs": [
    {
     "name": "stdout",
     "output_type": "stream",
     "text": [
      "Pirates of the Caribbean: On Stranger Tides (tt1298650)\n"
     ]
    }
   ],
   "source": [
    "# можно добавлять разные варианты решения\n",
    "# код ниже сразу выдаёт конечный ответ: название фильма и его imdb_id\n",
    "ind_budget_max = data.index[data['budget'] == data.budget.max()]\n",
    "\n",
    "df1 = data.iloc[ind_budget_max]  # оставляем нужную нам строку\n",
    "mov_id = df1.iloc[0][0]  # извлекаем идентификатор фильма\n",
    "mov_title = df1.iloc[0][3]  # извлекаем название фильма\n",
    "# склеиваем название и идентификатор фильма\n",
    "answer1 = mov_title + ' ' + '(' + mov_id + ')'\n",
    "print(answer1)\n",
    "\n",
    "# потенциально автоматически добавляем ответ в словарь\n",
    "#answers['1'] = answer"
   ]
  },
  {
   "cell_type": "markdown",
   "metadata": {
    "colab_type": "text",
    "id": "FNRbbI3vVp-c"
   },
   "source": [
    "# 2. Какой из фильмов самый длительный (в минутах)?"
   ]
  },
  {
   "cell_type": "code",
   "execution_count": 9,
   "metadata": {
    "colab": {},
    "colab_type": "code",
    "id": "vHAoEXNTVp-d"
   },
   "outputs": [],
   "source": [
    "# думаю логику работы с этим словарем вы уже поняли,\n",
    "# по этому не буду больше его дублировать\n",
    "\n",
    "answers['2'] = 'Gods and Generals (tt0279111)'"
   ]
  },
  {
   "cell_type": "code",
   "execution_count": 10,
   "metadata": {
    "colab": {},
    "colab_type": "code",
    "id": "ot-VX2XrVp-g"
   },
   "outputs": [
    {
     "name": "stdout",
     "output_type": "stream",
     "text": [
      "Gods and Generals (tt0279111)\n"
     ]
    }
   ],
   "source": [
    "ind_long = data.index[data['runtime'] == data.runtime.max()]\n",
    "\n",
    "df1 = data.iloc[ind_long]\n",
    "mov_id = df1.iloc[0][0]\n",
    "mov_title = df1.iloc[0][3]\n",
    "\n",
    "answer2 = mov_title + ' ' + '(' + mov_id + ')'\n",
    "print(answer2)\n",
    "\n",
    "# код ниже сразу-бы добавил ответ в словарь\n",
    "#answers['2'] = answer"
   ]
  },
  {
   "cell_type": "markdown",
   "metadata": {
    "colab_type": "text",
    "id": "bapLlpW8Vp-k"
   },
   "source": [
    "# 3. Какой из фильмов самый короткий (в минутах)?\n",
    "\n",
    "\n",
    "\n"
   ]
  },
  {
   "cell_type": "code",
   "execution_count": 15,
   "metadata": {
    "colab": {},
    "colab_type": "code",
    "id": "YBxaSHuAVp-l"
   },
   "outputs": [
    {
     "name": "stdout",
     "output_type": "stream",
     "text": [
      "Winnie the Pooh (tt1449283)\n"
     ]
    }
   ],
   "source": [
    "ind_short = data.index[data['runtime'] == data.runtime.min()]\n",
    "\n",
    "df1 = data.iloc[ind_short]\n",
    "mov_id = df1.iloc[0][0]\n",
    "mov_title = df1.iloc[0][3]\n",
    "\n",
    "answer3 = mov_title + ' ' + '(' + mov_id + ')'\n",
    "print(answer3)\n",
    "\n",
    "#answers['3'] = answer\n",
    "\n",
    "answers['3'] = 'Winnie the Pooh (tt1449283)'"
   ]
  },
  {
   "cell_type": "markdown",
   "metadata": {
    "colab_type": "text",
    "id": "TfQbxbfNVp-p"
   },
   "source": [
    "# 4. Какова средняя длительность фильмов?\n"
   ]
  },
  {
   "cell_type": "code",
   "execution_count": 16,
   "metadata": {
    "colab": {},
    "colab_type": "code",
    "id": "5K6dKZYVVp-q"
   },
   "outputs": [
    {
     "name": "stdout",
     "output_type": "stream",
     "text": [
      "109.6585494970884\n"
     ]
    }
   ],
   "source": [
    "print(data.runtime.mean())\n",
    "#answers['4'] = data.runtime.mean()\n",
    "\n",
    "answers['4'] = 109.6585494970884"
   ]
  },
  {
   "cell_type": "markdown",
   "metadata": {
    "colab_type": "text",
    "id": "r5TvbnT_Vp-u"
   },
   "source": [
    "# 5. Каково медианное значение длительности фильмов? "
   ]
  },
  {
   "cell_type": "code",
   "execution_count": 17,
   "metadata": {
    "colab": {},
    "colab_type": "code",
    "id": "iBROplKnVp-v"
   },
   "outputs": [
    {
     "name": "stdout",
     "output_type": "stream",
     "text": [
      "107.0\n"
     ]
    }
   ],
   "source": [
    "print(data.runtime.median())\n",
    "#answers['5'] = data.runtime.median()\n",
    "\n",
    "answers['5'] = 107.0"
   ]
  },
  {
   "cell_type": "markdown",
   "metadata": {
    "colab_type": "text",
    "id": "39P-deDSVp-y"
   },
   "source": [
    "# 6. Какой самый прибыльный фильм?\n",
    "#### Внимание! Здесь и далее под «прибылью» или «убытками» понимается разность между сборами и бюджетом фильма. (прибыль = сборы - бюджет) в нашем датасете это будет (profit = revenue - budget) "
   ]
  },
  {
   "cell_type": "code",
   "execution_count": 18,
   "metadata": {
    "colab": {},
    "colab_type": "code",
    "id": "UYZh4T9WVp-y"
   },
   "outputs": [
    {
     "name": "stdout",
     "output_type": "stream",
     "text": [
      "Avatar (tt0499549)\n"
     ]
    }
   ],
   "source": [
    "# лучше код получения столбца profit вынести в Предобработку что в начале\n",
    "ind_profit_max = data.index[data['profit'] == data.profit.max()]\n",
    "df1 = data.iloc[ind_profit_max]\n",
    "mov_id = df1.iloc[0][0]\n",
    "mov_title = df1.iloc[0][3]\n",
    "answer6 = mov_title + ' ' + '(' + mov_id + ')'\n",
    "print(answer6)\n",
    "#answers['6'] = answer6\n",
    "answers['6'] = 'Avatar (tt0499549)'"
   ]
  },
  {
   "cell_type": "markdown",
   "metadata": {
    "colab_type": "text",
    "id": "M99JmIX4Vp-2"
   },
   "source": [
    "# 7. Какой фильм самый убыточный? "
   ]
  },
  {
   "cell_type": "code",
   "execution_count": 19,
   "metadata": {
    "colab": {},
    "colab_type": "code",
    "id": "w-D2m4XPVp-3"
   },
   "outputs": [
    {
     "name": "stdout",
     "output_type": "stream",
     "text": [
      "The Lone Ranger (tt1210819)\n"
     ]
    }
   ],
   "source": [
    "ind_profit_min = data.index[data['profit'] == data.profit.min()]\n",
    "df1 = data.iloc[ind_profit_min]\n",
    "mov_id = df1.iloc[0][0]\n",
    "mov_title = df1.iloc[0][3]\n",
    "answer7 = mov_title + ' ' + '(' + mov_id + ')'\n",
    "print(answer7)\n",
    "#answers['7'] = answer7\n",
    "answers['7'] = 'The Lone Ranger (tt1210819)'"
   ]
  },
  {
   "cell_type": "markdown",
   "metadata": {
    "colab_type": "text",
    "id": "wEOM5ERVVp-6"
   },
   "source": [
    "# 8. У скольких фильмов из датасета объем сборов оказался выше бюджета?"
   ]
  },
  {
   "cell_type": "code",
   "execution_count": 20,
   "metadata": {
    "colab": {},
    "colab_type": "code",
    "id": "y00_7HD6Vp-7"
   },
   "outputs": [
    {
     "name": "stdout",
     "output_type": "stream",
     "text": [
      "1478\n"
     ]
    }
   ],
   "source": [
    "index_rev_bud = data.index[data['revenue'] > data['budget']]\n",
    "answer8 = len(index_rev_bud)\n",
    "# здесь можно и не пользоваться функцией len() а просто посмотреть длинну в выводе.\n",
    "# но тогда не будет автоматизма!\n",
    "\n",
    "print(answer8)\n",
    "#answers['8'] = answer8\n",
    "answers['8'] = 1478"
   ]
  },
  {
   "cell_type": "markdown",
   "metadata": {
    "colab_type": "text",
    "id": "xhpspA9KVp_A"
   },
   "source": [
    "# 9. Какой фильм оказался самым кассовым в 2008 году?"
   ]
  },
  {
   "cell_type": "code",
   "execution_count": 21,
   "metadata": {
    "colab": {},
    "colab_type": "code",
    "id": "MoUyQr9RVp_B"
   },
   "outputs": [
    {
     "name": "stdout",
     "output_type": "stream",
     "text": [
      "The Dark Knight (tt0468569)\n"
     ]
    }
   ],
   "source": [
    "df2008 = data[(data['release_year'] == 2008)]\n",
    "df2008_max_revenue = df2008[df2008['revenue'] == df2008.revenue.max()]\n",
    "\n",
    "title_2008 = df2008_max_revenue.iloc[0][3]\n",
    "id_2008 = df2008_max_revenue.iloc[0][0]\n",
    "\n",
    "answer9 = title_2008 + ' ' + '(' + id_2008 + ')'\n",
    "#answers['9'] = answer9\n",
    "print(answer9)\n",
    "answers['9'] = 'The Dark Knight (tt0468569)'"
   ]
  },
  {
   "cell_type": "markdown",
   "metadata": {
    "colab_type": "text",
    "id": "Zi4hDKidVp_F"
   },
   "source": [
    "# 10. Самый убыточный фильм за период с 2012 по 2014 г. (включительно)?\n"
   ]
  },
  {
   "cell_type": "code",
   "execution_count": 23,
   "metadata": {
    "colab": {},
    "colab_type": "code",
    "id": "XqyRmufJVp_F"
   },
   "outputs": [
    {
     "name": "stdout",
     "output_type": "stream",
     "text": [
      "The Lone Ranger (tt1210819)\n"
     ]
    }
   ],
   "source": [
    "# строка ниже оставляет в датасете нужные нам годы выпускы фильмов\n",
    "data2012_2014 = data[(data['release_year'] > 2011) &\n",
    "                     (data['release_year'] < 2015)]\n",
    "\n",
    "mov_id = data2012_2014[data2012_2014['profit']\n",
    "                       == data2012_2014.profit.min()].iloc[0][0]\n",
    "mov_title = data2012_2014[data2012_2014['profit']\n",
    "                          == data2012_2014.profit.min()].iloc[0][3]\n",
    "answer10 = mov_title + ' ' + '(' + mov_id + ')'\n",
    "#answers['10'] = answer10\n",
    "print(answer10)\n",
    "answers['10'] = 'The Lone Ranger (tt1210819)'"
   ]
  },
  {
   "cell_type": "markdown",
   "metadata": {
    "colab_type": "text",
    "id": "EA7Sa9dkVp_I"
   },
   "source": [
    "# 11. Какого жанра фильмов больше всего?"
   ]
  },
  {
   "cell_type": "code",
   "execution_count": 24,
   "metadata": {
    "colab": {},
    "colab_type": "code",
    "id": "zsJAwJ8QVp_J"
   },
   "outputs": [
    {
     "name": "stdout",
     "output_type": "stream",
     "text": [
      "Drama\n"
     ]
    }
   ],
   "source": [
    "# эту задачу тоже можно решать разными подходами, попробуй реализовать разные варианты\n",
    "# если будешь добавлять функцию - выноси ее в предобработку что в начале\n",
    "# формируем список жанров для каждого фильма\n",
    "data['new_genres'] = data['genres'].apply(lambda x: x.split('|'))\n",
    "\n",
    "# объявляем словарь, в который занесём результаты\n",
    "genres_dict = {}\n",
    "# сбрасываем его, если использовался в другом задании ранее\n",
    "genres_dict.clear()\n",
    "\n",
    "# функция genres_count определена выше в Предобработке\n",
    "data['new_genres'].apply(genres_count)\n",
    "result = max(genres_dict, key=genres_dict.get)\n",
    "print(result)\n",
    "\n",
    "# формируем \"human-readable\" ответ\n",
    "answer11 = str(result) + ' ' + str(genres_dict[result])\n",
    "#answers['11'] = answer11\n",
    "answers['11'] = 'Drama'"
   ]
  },
  {
   "cell_type": "markdown",
   "metadata": {
    "colab_type": "text",
    "id": "Ax6g2C8SVp_M"
   },
   "source": [
    "ВАРИАНТ 2"
   ]
  },
  {
   "cell_type": "code",
   "execution_count": 25,
   "metadata": {
    "colab": {},
    "colab_type": "code",
    "id": "otO3SbrSVp_N"
   },
   "outputs": [
    {
     "name": "stdout",
     "output_type": "stream",
     "text": [
      "[('Drama', 782)]\n"
     ]
    }
   ],
   "source": [
    "data['new_genres'] = data['genres'].apply(lambda x: x.split('|'))\n",
    "df11_2 = data.explode('new_genres')\n",
    "\n",
    "# простой подсчёт жанров после применения функции .explode\n",
    "answer11_2 = collections.Counter(df11_2['new_genres']).most_common(1)\n",
    "print(answer11_2)"
   ]
  },
  {
   "cell_type": "markdown",
   "metadata": {},
   "source": [
    "ВАРИАНТ 3"
   ]
  },
  {
   "cell_type": "code",
   "execution_count": 26,
   "metadata": {},
   "outputs": [
    {
     "name": "stdout",
     "output_type": "stream",
     "text": [
      "Drama, 782\n"
     ]
    }
   ],
   "source": [
    "# Вариант 3 Задания 11\n",
    "data['new_genres'] = data['genres'].apply(lambda x: x.split('|'))\n",
    "df11_3 = data.explode('new_genres').reset_index()\n",
    "\n",
    "# простой группировкой и подсчётм длинны массива каждого жанра получаем нужные значения\n",
    "rez11_3 = df11_3.groupby(['new_genres'])['imdb_id'].unique().apply(\n",
    "    lambda x: len(x)).sort_values(ascending=False)\n",
    "\n",
    "genre_113 = rez11_3.index[0]\n",
    "genre_amount113 = rez11_3[0]\n",
    "\n",
    "answer11_3 = str(genre_113) + ', ' + str(genre_amount113)\n",
    "print(answer11_3)"
   ]
  },
  {
   "cell_type": "markdown",
   "metadata": {
    "colab_type": "text",
    "id": "T9_bPWpkVp_Q"
   },
   "source": [
    "# 12. Фильмы какого жанра чаще всего становятся прибыльными? "
   ]
  },
  {
   "cell_type": "code",
   "execution_count": 27,
   "metadata": {
    "colab": {},
    "colab_type": "code",
    "id": "Tmt8MaK1Vp_R"
   },
   "outputs": [
    {
     "name": "stdout",
     "output_type": "stream",
     "text": [
      "Drama\n"
     ]
    }
   ],
   "source": [
    "data['new_genres'] = data['genres'].apply(lambda x: x.split('|'))\n",
    "\n",
    "grouped_df = data.groupby(['profit']).max().reset_index()\n",
    "# оставляем в данных фильмы с прибылью больше 0:\n",
    "grouped_df.loc[grouped_df['profit'] > 0].sort_values('profit', ascending=False)\n",
    "\n",
    "# далее пользуемся тем-же инструментом что и в задании 11\n",
    "genres_dict.clear()  # очищаем словарь после задания 11\n",
    "\n",
    "grouped_df['new_genres'].apply(genres_count)\n",
    "result = max(genres_dict, key=genres_dict.get)\n",
    "print(result)\n",
    "answer12 = str(result) + ' ' + str(genres_dict[result])\n",
    "#answers['12'] = answer12\n",
    "answers['12'] = 'Drama'"
   ]
  },
  {
   "cell_type": "markdown",
   "metadata": {
    "colab_type": "text",
    "id": "0F23bgsDVp_U"
   },
   "source": [
    "# 13. У какого режиссера самые большие суммарные кассовые сбооры?"
   ]
  },
  {
   "cell_type": "code",
   "execution_count": 28,
   "metadata": {
    "colab": {},
    "colab_type": "code",
    "id": "K6Z3J8ygVp_X"
   },
   "outputs": [
    {
     "name": "stdout",
     "output_type": "stream",
     "text": [
      "Peter Jackson 6490593685\n"
     ]
    }
   ],
   "source": [
    "# группируем данные по режиссеру и суммируем кассовые сборы\n",
    "# так как отрыв сборов фильмов с одним режисёром от остальных большой, нет нужды учитывать остальные\n",
    "grouped_df = data.groupby(['director'])['revenue'].sum()\n",
    "rez = grouped_df.sort_values(ascending=False)\n",
    "\n",
    "# получаем результат: режисёр и его суммарные кассовые сборы\n",
    "answer13 = str(rez.index[0]) + ' ' + str(rez[0])\n",
    "print(answer13)\n",
    "answers['13'] = 'Peter Jackson'\n",
    "\n",
    "# ещё один вариант\n",
    "#data['new_director'] = data['director'].apply(lambda x:x.split('|'))\n",
    "# data_director=data.explode('new_director')\n",
    "#rez = data_director.groupby(['new_director'])['revenue'].sum().sort_values(ascending = False)\n",
    "#answer13_2 = str(rez.index[0])\n",
    "# print(answer13_2)"
   ]
  },
  {
   "cell_type": "markdown",
   "metadata": {
    "colab_type": "text",
    "id": "PsYC9FgRVp_a"
   },
   "source": [
    "# 14. Какой режисер снял больше всего фильмов в стиле Action?"
   ]
  },
  {
   "cell_type": "code",
   "execution_count": 29,
   "metadata": {
    "colab": {},
    "colab_type": "code",
    "id": "wd2M-wHeVp_b"
   },
   "outputs": [
    {
     "name": "stdout",
     "output_type": "stream",
     "text": [
      "[('Robert Rodriguez', 9)]\n"
     ]
    }
   ],
   "source": [
    "import collections\n",
    "df_action = data[data.genres.str.contains('Action', na=False)]\n",
    "answer14 = collections.Counter(\n",
    "    df_action['director'].str.cat(sep='|').split('|')).most_common(1)\n",
    "print(answer14)\n",
    "answers['14'] = 'Robert Rodriguez'"
   ]
  },
  {
   "cell_type": "markdown",
   "metadata": {
    "colab_type": "text",
    "id": "PQ0KciD7Vp_f"
   },
   "source": [
    "# 15. Фильмы с каким актером принесли самые высокие кассовые сборы в 2012 году? "
   ]
  },
  {
   "cell_type": "code",
   "execution_count": 30,
   "metadata": {
    "colab": {},
    "colab_type": "code",
    "id": "aga62oeKVp_g"
   },
   "outputs": [
    {
     "name": "stdout",
     "output_type": "stream",
     "text": [
      "Robert Downey Jr.|Chris Evans|Mark Ruffalo|Chris Hemsworth|Scarlett Johansson 1519557910\n"
     ]
    }
   ],
   "source": [
    "# очищаем данные - оставляем инересующий нас год\n",
    "df_2012 = data.loc[data['release_year'] == 2012]\n",
    "\n",
    "# группируем по нужному нам признаку и суммарные кассовые сборы\n",
    "df = df_2012.groupby(['cast'])['revenue'].sum()\n",
    "\n",
    "# ниже готовим ответ в удобной для чтения форме\n",
    "rez = df.sort_values(ascending=False)\n",
    "answer15 = str(rez.index[0]) + ' ' + str(rez[0])\n",
    "print(answer15)\n",
    "answers['15'] = 'Chris Hemsworth'"
   ]
  },
  {
   "cell_type": "markdown",
   "metadata": {
    "colab_type": "text",
    "id": "mWHyyL7QVp_j"
   },
   "source": [
    "# 16. Какой актер снялся в большем количестве высокобюджетных фильмов?"
   ]
  },
  {
   "cell_type": "code",
   "execution_count": 31,
   "metadata": {
    "colab": {},
    "colab_type": "code",
    "id": "qQtmHKTFVp_k"
   },
   "outputs": [
    {
     "name": "stdout",
     "output_type": "stream",
     "text": [
      "[('Matt Damon', 18)]\n"
     ]
    }
   ],
   "source": [
    "df = data.loc[data['budget'] > data.budget.mean()]\n",
    "answer16 = collections.Counter(\n",
    "    df['cast'].str.cat(sep='|').split('|')).most_common(1)\n",
    "print(answer16)\n",
    "answers['16'] = 'Matt Damon'"
   ]
  },
  {
   "cell_type": "markdown",
   "metadata": {
    "colab_type": "text",
    "id": "NIh6AaW5Vp_n"
   },
   "source": [
    "# 17. В фильмах какого жанра больше всего снимался Nicolas Cage? "
   ]
  },
  {
   "cell_type": "code",
   "execution_count": 32,
   "metadata": {
    "colab": {},
    "colab_type": "code",
    "id": "H74SJDIBVp_n"
   },
   "outputs": [
    {
     "name": "stdout",
     "output_type": "stream",
     "text": [
      "[('Action', 17)]\n"
     ]
    }
   ],
   "source": [
    "# сортируем DataFrame оставляя только фильмы с Nicolas Cage\n",
    "df_nic_cage = data[data.cast.str.contains('Nicolas Cage', na=False)]\n",
    "\n",
    "answer17 = collections.Counter(\n",
    "    df_nic_cage['genres'].str.cat(sep='|').split('|')).most_common(1)\n",
    "print(answer17)\n",
    "answers['17'] = 'Action'"
   ]
  },
  {
   "cell_type": "markdown",
   "metadata": {
    "colab_type": "text",
    "id": "RqOmPRfWVp_q"
   },
   "source": [
    "# 18. Самый убыточный фильм от Paramount Pictures"
   ]
  },
  {
   "cell_type": "code",
   "execution_count": 33,
   "metadata": {
    "colab": {},
    "colab_type": "code",
    "id": "9E_B0Y96Vp_r"
   },
   "outputs": [
    {
     "name": "stdout",
     "output_type": "stream",
     "text": [
      "K-19: The Widowmaker (tt0267626)\n"
     ]
    }
   ],
   "source": [
    "# отфильтровываем данные оставля Paramount Pictures\n",
    "df_paramount = data[data.production_companies.str.contains(\n",
    "    'Paramount Pictures', na=False)]\n",
    "\n",
    "# получаем название фильма и его id\n",
    "mov_title = df_paramount.sort_values(['profit'], ascending=True).iloc[0][3]\n",
    "mov_id = df_paramount.sort_values(['profit'], ascending=True).iloc[0][0]\n",
    "\n",
    "answer18 = mov_title + ' ' + '(' + mov_id + ')'\n",
    "print(answer18)\n",
    "answers['18'] = 'K-19: The Widowmaker (tt0267626)'"
   ]
  },
  {
   "cell_type": "markdown",
   "metadata": {
    "colab_type": "text",
    "id": "vS8Ur6ddVp_u"
   },
   "source": [
    "# 19. Какой год стал самым успешным по суммарным кассовым сборам?"
   ]
  },
  {
   "cell_type": "code",
   "execution_count": 34,
   "metadata": {
    "colab": {},
    "colab_type": "code",
    "id": "Dnbt4GdIVp_v"
   },
   "outputs": [
    {
     "name": "stdout",
     "output_type": "stream",
     "text": [
      "2015 revenue: 25449202382\n"
     ]
    }
   ],
   "source": [
    "# группируем по году, суммируем revenue и сортируем по убывающей\n",
    "df_year_revenue = data.groupby(['release_year'])[\n",
    "    'revenue'].sum().sort_values(ascending=False)\n",
    "\n",
    "# наш овет находится наверху данных: выбираем год как индекс и сам revenue\n",
    "answer19 = str(df_year_revenue.index[0]) + \\\n",
    "    ' revenue: ' + str(df_year_revenue.iloc[0])\n",
    "print(answer19)\n",
    "answers['19'] = '2015'"
   ]
  },
  {
   "cell_type": "markdown",
   "metadata": {
    "colab_type": "text",
    "id": "JAzJh4QAVp_z"
   },
   "source": [
    "# 20. Какой самый прибыльный год для студии Warner Bros?"
   ]
  },
  {
   "cell_type": "code",
   "execution_count": 36,
   "metadata": {
    "colab": {},
    "colab_type": "code",
    "id": "wgVu02DEVp_0"
   },
   "outputs": [
    {
     "name": "stdout",
     "output_type": "stream",
     "text": [
      "2014\n"
     ]
    }
   ],
   "source": [
    "# отильтровываем датасет оставляя Warner Bros\n",
    "df_warner = data[data.production_companies.str.contains(\n",
    "    'Warner Bros', na=False)]\n",
    "\n",
    "# группируем по год и подсчитываем суммарные кассовые сборы\n",
    "df_warner_revenue = df_warner.groupby(['release_year'])[\n",
    "    'revenue'].sum().sort_values(ascending=False)\n",
    "\n",
    "answer20 = str(df_warner_revenue.index[0])\n",
    "print(answer20)\n",
    "answers['20'] = '2014'"
   ]
  },
  {
   "cell_type": "markdown",
   "metadata": {
    "colab_type": "text",
    "id": "8Im1S2HRVp_4"
   },
   "source": [
    "# 21. В каком месяце за все годы суммарно вышло больше всего фильмов?"
   ]
  },
  {
   "cell_type": "code",
   "execution_count": 38,
   "metadata": {
    "colab": {},
    "colab_type": "code",
    "id": "lev6TH7gVp_4"
   },
   "outputs": [
    {
     "name": "stdout",
     "output_type": "stream",
     "text": [
      "9\n"
     ]
    }
   ],
   "source": [
    "data['release_month'] = data['release_date'].apply(lambda x: x.split('/')[0])\n",
    "rez = data.groupby(['release_month'])['original_title'].describe(\n",
    ").sort_values(['unique'], ascending=False)\n",
    "answer21 = str(rez.index[0])\n",
    "print(answer21)\n",
    "answers['21'] = 'September'"
   ]
  },
  {
   "cell_type": "markdown",
   "metadata": {
    "colab_type": "text",
    "id": "uAJsZ_NeVp_7"
   },
   "source": [
    "# 22. Сколько суммарно вышло фильмов летом? (за июнь, июль, август)"
   ]
  },
  {
   "cell_type": "code",
   "execution_count": 40,
   "metadata": {
    "colab": {},
    "colab_type": "code",
    "id": "Aa-hEREoVp_8"
   },
   "outputs": [
    {
     "name": "stdout",
     "output_type": "stream",
     "text": [
      "450\n"
     ]
    }
   ],
   "source": [
    "data['release_month'] = data['release_date'].apply(lambda x: x.split('/')[0])\n",
    "# оставлем в датасете только летние месяцы\n",
    "df_summer = data[data.release_month.isin(['6', '7', '8'])]\n",
    "# получаем количество фильмов простым подсчётом голичества строк в колонке таблицы\n",
    "answer22 = len(df_summer.original_title)\n",
    "print(answer22)\n",
    "answers['22'] = '450'"
   ]
  },
  {
   "cell_type": "markdown",
   "metadata": {
    "colab_type": "text",
    "id": "G94ppOY1VqAA"
   },
   "source": [
    "# 23. Для какого режиссера зима – самое продуктивное время года? "
   ]
  },
  {
   "cell_type": "code",
   "execution_count": 41,
   "metadata": {
    "colab": {},
    "colab_type": "code",
    "id": "RhNTsamuVqAB"
   },
   "outputs": [
    {
     "name": "stdout",
     "output_type": "stream",
     "text": [
      "[('Peter Jackson', 7)]\n"
     ]
    }
   ],
   "source": [
    "data['release_month'] = data['release_date'].apply(lambda x: x.split('/')[0])\n",
    "\n",
    "df_winter = data[data.release_month.isin(['12', '1', '2'])]\n",
    "answer23 = collections.Counter(\n",
    "    df_winter['director'].str.cat(sep='|').split('|')).most_common(1)\n",
    "print(answer23)\n",
    "answers['23'] = 'Peter Jackson'"
   ]
  },
  {
   "cell_type": "markdown",
   "metadata": {
    "colab_type": "text",
    "id": "RBo0JVjVVqAF"
   },
   "source": [
    "# 24. Какая студия дает самые длинные названия своим фильмам по количеству символов?"
   ]
  },
  {
   "cell_type": "code",
   "execution_count": 42,
   "metadata": {
    "colab": {},
    "colab_type": "code",
    "id": "QRGS8L0iVqAG"
   },
   "outputs": [
    {
     "name": "stdout",
     "output_type": "stream",
     "text": [
      "Twentieth Century Fox Film Corporation|Four By Two Productions\n"
     ]
    }
   ],
   "source": [
    "data['title_length'] = data['original_title'].apply(len)\n",
    "df = data.sort_values(['title_length'], ascending=False)\n",
    "answer24 = df.iloc[0][10]\n",
    "print(answer24)\n",
    "answers['24'] = 'Four By Two Productions'"
   ]
  },
  {
   "cell_type": "markdown",
   "metadata": {
    "colab_type": "text",
    "id": "9G0hbvR7VqAK"
   },
   "source": [
    "# 25. Описание фильмов какой студии в среднем самые длинные по количеству слов?"
   ]
  },
  {
   "cell_type": "code",
   "execution_count": 44,
   "metadata": {
    "colab": {},
    "colab_type": "code",
    "id": "Ge2GsLNxVqAK"
   },
   "outputs": [
    {
     "name": "stdout",
     "output_type": "stream",
     "text": [
      "Midnight Picture Show\n"
     ]
    }
   ],
   "source": [
    "# подготавливаем описание фильмов для анализа и считаем длину слов в описании\n",
    "data['overview_list'] = data['overview'].apply(lambda x: x.split())\n",
    "data['overview_list_len'] = data['overview_list'].apply(len)\n",
    "\n",
    "# для группировки готовим список студий\n",
    "data['new_production_companies'] = data['production_companies'].apply(\n",
    "    lambda x: x.split('|'))\n",
    "df = data.explode('new_production_companies')\n",
    "\n",
    "# для сгрупированных по студиям описаний высчитываем среднее и выбираем максимальное\n",
    "rez = df.groupby(['new_production_companies'])[\n",
    "    'overview_list_len'].mean().sort_values(ascending=False)\n",
    "answer25 = str(rez.index[0])\n",
    "print(answer25)\n",
    "answers['25'] = 'Midnight Picture Show'"
   ]
  },
  {
   "cell_type": "markdown",
   "metadata": {
    "colab_type": "text",
    "id": "FJ1AFt90VqAP"
   },
   "source": [
    "# 26. Какие фильмы входят в 1 процент лучших по рейтингу? \n",
    "по vote_average"
   ]
  },
  {
   "cell_type": "code",
   "execution_count": 45,
   "metadata": {
    "colab": {},
    "colab_type": "code",
    "id": "8qmJVq4CVqAQ"
   },
   "outputs": [
    {
     "data": {
      "text/html": [
       "<div>\n",
       "<style scoped>\n",
       "    .dataframe tbody tr th:only-of-type {\n",
       "        vertical-align: middle;\n",
       "    }\n",
       "\n",
       "    .dataframe tbody tr th {\n",
       "        vertical-align: top;\n",
       "    }\n",
       "\n",
       "    .dataframe thead th {\n",
       "        text-align: right;\n",
       "    }\n",
       "</style>\n",
       "<table border=\"1\" class=\"dataframe\">\n",
       "  <thead>\n",
       "    <tr style=\"text-align: right;\">\n",
       "      <th></th>\n",
       "      <th>original_title</th>\n",
       "      <th>vote_average</th>\n",
       "    </tr>\n",
       "  </thead>\n",
       "  <tbody>\n",
       "    <tr>\n",
       "      <th>599</th>\n",
       "      <td>The Dark Knight</td>\n",
       "      <td>8.1</td>\n",
       "    </tr>\n",
       "    <tr>\n",
       "      <th>118</th>\n",
       "      <td>Interstellar</td>\n",
       "      <td>8.0</td>\n",
       "    </tr>\n",
       "    <tr>\n",
       "      <th>125</th>\n",
       "      <td>The Imitation Game</td>\n",
       "      <td>8.0</td>\n",
       "    </tr>\n",
       "    <tr>\n",
       "      <th>9</th>\n",
       "      <td>Inside Out</td>\n",
       "      <td>8.0</td>\n",
       "    </tr>\n",
       "    <tr>\n",
       "      <th>34</th>\n",
       "      <td>Room</td>\n",
       "      <td>8.0</td>\n",
       "    </tr>\n",
       "    <tr>\n",
       "      <th>1183</th>\n",
       "      <td>The Wolf of Wall Street</td>\n",
       "      <td>7.9</td>\n",
       "    </tr>\n",
       "    <tr>\n",
       "      <th>128</th>\n",
       "      <td>Gone Girl</td>\n",
       "      <td>7.9</td>\n",
       "    </tr>\n",
       "    <tr>\n",
       "      <th>1191</th>\n",
       "      <td>12 Years a Slave</td>\n",
       "      <td>7.9</td>\n",
       "    </tr>\n",
       "    <tr>\n",
       "      <th>119</th>\n",
       "      <td>Guardians of the Galaxy</td>\n",
       "      <td>7.9</td>\n",
       "    </tr>\n",
       "    <tr>\n",
       "      <th>1081</th>\n",
       "      <td>The Lord of the Rings: The Return of the King</td>\n",
       "      <td>7.9</td>\n",
       "    </tr>\n",
       "    <tr>\n",
       "      <th>1800</th>\n",
       "      <td>Memento</td>\n",
       "      <td>7.9</td>\n",
       "    </tr>\n",
       "    <tr>\n",
       "      <th>370</th>\n",
       "      <td>Inception</td>\n",
       "      <td>7.9</td>\n",
       "    </tr>\n",
       "    <tr>\n",
       "      <th>872</th>\n",
       "      <td>The Pianist</td>\n",
       "      <td>7.9</td>\n",
       "    </tr>\n",
       "    <tr>\n",
       "      <th>138</th>\n",
       "      <td>The Grand Budapest Hotel</td>\n",
       "      <td>7.9</td>\n",
       "    </tr>\n",
       "    <tr>\n",
       "      <th>1188</th>\n",
       "      <td>Her</td>\n",
       "      <td>7.8</td>\n",
       "    </tr>\n",
       "    <tr>\n",
       "      <th>28</th>\n",
       "      <td>Spotlight</td>\n",
       "      <td>7.8</td>\n",
       "    </tr>\n",
       "    <tr>\n",
       "      <th>124</th>\n",
       "      <td>Big Hero 6</td>\n",
       "      <td>7.8</td>\n",
       "    </tr>\n",
       "    <tr>\n",
       "      <th>177</th>\n",
       "      <td>The Fault in Our Stars</td>\n",
       "      <td>7.8</td>\n",
       "    </tr>\n",
       "    <tr>\n",
       "      <th>863</th>\n",
       "      <td>The Lord of the Rings: The Two Towers</td>\n",
       "      <td>7.8</td>\n",
       "    </tr>\n",
       "  </tbody>\n",
       "</table>\n",
       "</div>"
      ],
      "text/plain": [
       "                                     original_title  vote_average\n",
       "599                                 The Dark Knight           8.1\n",
       "118                                    Interstellar           8.0\n",
       "125                              The Imitation Game           8.0\n",
       "9                                        Inside Out           8.0\n",
       "34                                             Room           8.0\n",
       "1183                        The Wolf of Wall Street           7.9\n",
       "128                                       Gone Girl           7.9\n",
       "1191                               12 Years a Slave           7.9\n",
       "119                         Guardians of the Galaxy           7.9\n",
       "1081  The Lord of the Rings: The Return of the King           7.9\n",
       "1800                                        Memento           7.9\n",
       "370                                       Inception           7.9\n",
       "872                                     The Pianist           7.9\n",
       "138                        The Grand Budapest Hotel           7.9\n",
       "1188                                            Her           7.8\n",
       "28                                        Spotlight           7.8\n",
       "124                                      Big Hero 6           7.8\n",
       "177                          The Fault in Our Stars           7.8\n",
       "863           The Lord of the Rings: The Two Towers           7.8"
      ]
     },
     "metadata": {},
     "output_type": "display_data"
    }
   ],
   "source": [
    "# вычисляем какое количество фильмов из DataFrame составляет 1%\n",
    "top_1percent_amount = round(len(data.imdb_id)*1/100)\n",
    "\n",
    "# сортируем фильмы по убывающему рейтигу и выводим заданное количество 1%\n",
    "df = data.sort_values('vote_average', ascending=False).head(\n",
    "    top_1percent_amount)\n",
    "\n",
    "# выводим список top 1% фильмов по рейтингу\n",
    "display(df.iloc[:, 3:13:9])\n",
    "answers['26'] = 'Inside Out, The Dark Knight, 12 Years a Slave'"
   ]
  },
  {
   "cell_type": "markdown",
   "metadata": {
    "colab_type": "text",
    "id": "MdXsUXbCVqAV"
   },
   "source": [
    "# 27. Какие актеры чаще всего снимаются в одном фильме вместе?\n"
   ]
  },
  {
   "cell_type": "code",
   "execution_count": 47,
   "metadata": {},
   "outputs": [
    {
     "name": "stdout",
     "output_type": "stream",
     "text": [
      "('Daniel Radcliffe', 'Rupert Grint')\n"
     ]
    }
   ],
   "source": [
    "import itertools\n",
    "\n",
    "data['new_cast'] = data['cast'].str.split('|')\n",
    "df = data['new_cast'].reset_index()\n",
    "\n",
    "# создадим комбинации по 2 из списка актёров\n",
    "df['pairs'] = df['new_cast'].apply(\n",
    "    lambda x: list(itertools.combinations(x, 2)))\n",
    "df_pairs = df.explode('pairs').reset_index()\n",
    "\n",
    "# подсчитаем количество встречающихся комбинаций\n",
    "# получается 2 одинаково часто встречющиеся комбинации, но нужна лишь первая\n",
    "rez = collections.Counter(df_pairs['pairs']).most_common(1)\n",
    "\n",
    "# уберём из ответа квадратные скобки и кавычки\n",
    "answer27 = str(rez[0])[1:-4]\n",
    "print(answer27)\n",
    "answers['27'] = 'Daniel Radcliffe, Rupert Grint'"
   ]
  },
  {
   "cell_type": "markdown",
   "metadata": {
    "colab_type": "text",
    "id": "U0nONFnGVqAX"
   },
   "source": [
    "# Submission"
   ]
  },
  {
   "cell_type": "code",
   "execution_count": 48,
   "metadata": {
    "colab": {},
    "colab_type": "code",
    "id": "IfcaRO9-VqAX",
    "outputId": "0f132912-32bb-4196-c98c-abfbc4ad5a5f"
   },
   "outputs": [
    {
     "data": {
      "text/plain": [
       "{'1': 'Pirates of the Caribbean: On Stranger Tides (tt1298650)',\n",
       " '2': 'Gods and Generals (tt0279111)',\n",
       " '3': 'Winnie the Pooh (tt1449283)',\n",
       " '4': 109.6585494970884,\n",
       " '5': 107.0,\n",
       " '6': 'Avatar (tt0499549)',\n",
       " '7': 'The Lone Ranger (tt1210819)',\n",
       " '8': 1478,\n",
       " '9': 'The Dark Knight (tt0468569)',\n",
       " '10': 'The Lone Ranger (tt1210819)',\n",
       " '11': 'Drama',\n",
       " '12': 'Drama',\n",
       " '13': 'Peter Jackson',\n",
       " '14': 'Robert Rodriguez',\n",
       " '15': 'Chris Hemsworth',\n",
       " '16': 'Matt Damon',\n",
       " '17': 'Action',\n",
       " '18': 'K-19: The Widowmaker (tt0267626)',\n",
       " '19': '2015',\n",
       " '20': '2014',\n",
       " '21': 'September',\n",
       " '22': '450',\n",
       " '23': 'Peter Jackson',\n",
       " '24': 'Four By Two Productions',\n",
       " '25': 'Midnight Picture Show',\n",
       " '26': 'Inside Out, The Dark Knight, 12 Years a Slave',\n",
       " '27': 'Daniel Radcliffe, Rupert Grint'}"
      ]
     },
     "execution_count": 48,
     "metadata": {},
     "output_type": "execute_result"
    }
   ],
   "source": [
    "# в конце можно посмотреть свои ответы к каждому вопросу\n",
    "answers"
   ]
  },
  {
   "cell_type": "code",
   "execution_count": 49,
   "metadata": {
    "colab": {},
    "colab_type": "code",
    "id": "SiRmHPl8VqAd"
   },
   "outputs": [
    {
     "data": {
      "text/plain": [
       "27"
      ]
     },
     "execution_count": 49,
     "metadata": {},
     "output_type": "execute_result"
    }
   ],
   "source": [
    "# и убедиться что ни чего не пропустил)\n",
    "len(answers)"
   ]
  },
  {
   "cell_type": "code",
   "execution_count": 0,
   "metadata": {
    "colab": {},
    "colab_type": "code",
    "id": "uCfuTkRbVqAg"
   },
   "outputs": [],
   "source": []
  },
  {
   "cell_type": "code",
   "execution_count": 0,
   "metadata": {
    "colab": {},
    "colab_type": "code",
    "id": "Vwx3NrkSVqAl"
   },
   "outputs": [],
   "source": []
  }
 ],
 "metadata": {
  "colab": {
   "name": "Copy of [SF-DST] Movies IMBD v4.1 TEMPLATE.ipynb",
   "provenance": []
  },
  "kernelspec": {
   "display_name": "Python 3",
   "language": "python",
   "name": "python3"
  },
  "language_info": {
   "codemirror_mode": {
    "name": "ipython",
    "version": 3
   },
   "file_extension": ".py",
   "mimetype": "text/x-python",
   "name": "python",
   "nbconvert_exporter": "python",
   "pygments_lexer": "ipython3",
   "version": "3.7.6"
  }
 },
 "nbformat": 4,
 "nbformat_minor": 1
}
